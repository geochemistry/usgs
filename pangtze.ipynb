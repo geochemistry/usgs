{
 "cells": [
  {
   "cell_type": "code",
   "execution_count": 1,
   "metadata": {},
   "outputs": [],
   "source": [
    "import requests\n",
    "import time"
   ]
  },
  {
   "cell_type": "code",
   "execution_count": 2,
   "metadata": {},
   "outputs": [],
   "source": [
    "headers = {'User-Agent': 'Mozilla/5.0 (Windows NT 10.0; Win64; x64; rv:63.0) Gecko/20100101 Firefox/63.0'}"
   ]
  },
  {
   "cell_type": "code",
   "execution_count": 3,
   "metadata": {},
   "outputs": [],
   "source": [
    "# i for column, j for row\n",
    "def make_url1(i, j):\n",
    "    url = 'http://srtm.csi.cgiar.org/SRT_IMAGES/FOOTPRINTS/srtm_fp_{0:02d}_{1:02d}.jpg'.format(i, j)\n",
    "    print('get_thumb:' + '{0:02d}_{1:02d}.jpg'.format(i, j))\n",
    "    return url\n",
    "\n",
    "def make_url2(i, j):\n",
    "    url = 'http://srtm.csi.cgiar.org/SRT-ZIP/SRTM_V41/SRTM_Data_GeoTiff/srtm_{0:02d}_{1:02d}.zip'.format(i, j)\n",
    "    print('get download link: ' + '{0:02d}_{1:02d}.jpg'.format(i, j))\n",
    "    return url"
   ]
  },
  {
   "cell_type": "code",
   "execution_count": null,
   "metadata": {},
   "outputs": [
    {
     "name": "stdout",
     "output_type": "stream",
     "text": [
      "get_thumb:01_01.jpg\n",
      "404\n",
      "get_thumb:01_02.jpg\n",
      "-----> OK: 01_02.zip\n",
      "get_thumb:01_03.jpg\n",
      "404\n",
      "get_thumb:01_04.jpg\n",
      "404\n",
      "get_thumb:01_05.jpg\n",
      "404\n",
      "get_thumb:01_06.jpg\n",
      "503\n"
     ]
    }
   ],
   "source": [
    "# columns: 72, rows: 24\n",
    "# f = open('pangtze', 'w', encoding='utf-8')\n",
    "# f.write('lists:' + '\\n')\n",
    "\n",
    "for i in range(1, 73):\n",
    "    for j in range(1, 25):\n",
    "        try:\n",
    "            rp = requests.get(url=make_url1(i, j), headers=headers)\n",
    "\n",
    "            if rp.status_code == 200:\n",
    "                print('-----> OK: ' + '{0:02d}_{1:02d}.zip'.format(i, j))\n",
    "#                 with open('pangtze', 'a', encoding='utf-8') as f:\n",
    "#                     f.write(make_url2(i, j) + '\\n')\n",
    "            else:\n",
    "                print(rp.status_code)\n",
    "\n",
    "        except requests.HTTPError as e:\n",
    "            print(e)\n",
    "\n",
    "        finally:\n",
    "            time.sleep(1)"
   ]
  },
  {
   "cell_type": "code",
   "execution_count": null,
   "metadata": {},
   "outputs": [],
   "source": []
  }
 ],
 "metadata": {
  "kernelspec": {
   "display_name": "Python 3",
   "language": "python",
   "name": "python3"
  },
  "language_info": {
   "codemirror_mode": {
    "name": "ipython",
    "version": 3
   },
   "file_extension": ".py",
   "mimetype": "text/x-python",
   "name": "python",
   "nbconvert_exporter": "python",
   "pygments_lexer": "ipython3",
   "version": "3.6.5"
  }
 },
 "nbformat": 4,
 "nbformat_minor": 2
}
